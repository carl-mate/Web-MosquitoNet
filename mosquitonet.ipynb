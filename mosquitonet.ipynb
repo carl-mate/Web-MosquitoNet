{
 "cells": [
  {
   "cell_type": "code",
   "execution_count": 1,
   "id": "f5fda0e8-f314-475a-9010-385ce41a9050",
   "metadata": {},
   "outputs": [],
   "source": [
    "import os\n",
    "import uuid\n",
    "import numpy as np\n",
    "import librosa\n",
    "import pylab\n",
    "import io\n",
    "import json\n",
    "\n",
    "from io import BytesIO\n",
    "import base64\n",
    "from werkzeug.utils import secure_filename\n",
    "from flask import Flask, request, jsonify, url_for, render_template\n",
    "from tensorflow.keras.models import load_model\n",
    "from tensorflow.keras.preprocessing.image import load_img, img_to_array\n",
    "from matplotlib import cm\n",
    "from librosa import display"
   ]
  },
  {
   "cell_type": "code",
   "execution_count": 2,
   "id": "bdc6b1e2-4543-42a8-9b12-53c0ce34a065",
   "metadata": {},
   "outputs": [],
   "source": [
    "ALLOWED_EXTENSION = set(['wav'])\n",
    "IMAGE_SIZE = (300, 300)\n"
   ]
  },
  {
   "cell_type": "code",
   "execution_count": 3,
   "id": "b0881452-8fb6-4dd0-951c-ea4c8bed027e",
   "metadata": {},
   "outputs": [],
   "source": [
    "def allowed_file(filename):\n",
    "    return '.' in filename and filename.rsplit('.', 1)[1] in ALLOWED_EXTENSION"
   ]
  },
  {
   "cell_type": "code",
   "execution_count": null,
   "id": "cfdfd6fd-dc9e-4c0d-ade4-7f0d849b8464",
   "metadata": {},
   "outputs": [
    {
     "name": "stdout",
     "output_type": "stream",
     "text": [
      " * Serving Flask app '__main__'\n",
      " * Debug mode: on\n"
     ]
    },
    {
     "name": "stderr",
     "output_type": "stream",
     "text": [
      "WARNING: This is a development server. Do not use it in a production deployment. Use a production WSGI server instead.\n",
      " * Running on http://127.0.0.1:5000\n",
      "Press CTRL+C to quit\n",
      "127.0.0.1 - - [19/Mar/2023 21:03:43] \"GET /index/ HTTP/1.1\" 200 -\n",
      "127.0.0.1 - - [19/Mar/2023 21:03:43] \"GET /static/css/style.css HTTP/1.1\" 304 -\n"
     ]
    },
    {
     "name": "stdout",
     "output_type": "stream",
     "text": [
      "***220472.wav\n",
      "1/1 [==============================] - 0s 256ms/step\n"
     ]
    },
    {
     "name": "stderr",
     "output_type": "stream",
     "text": [
      "127.0.0.1 - - [19/Mar/2023 21:04:00] \"POST /api/audio HTTP/1.1\" 200 -\n",
      "127.0.0.1 - - [19/Mar/2023 21:04:00] \"GET /static/css/style.css HTTP/1.1\" 304 -\n"
     ]
    },
    {
     "name": "stdout",
     "output_type": "stream",
     "text": [
      "***220435.wav\n",
      "1/1 [==============================] - 0s 147ms/step\n"
     ]
    },
    {
     "name": "stderr",
     "output_type": "stream",
     "text": [
      "127.0.0.1 - - [19/Mar/2023 21:04:15] \"POST /api/audio HTTP/1.1\" 200 -\n",
      "127.0.0.1 - - [19/Mar/2023 21:04:15] \"GET /static/css/style.css HTTP/1.1\" 304 -\n"
     ]
    }
   ],
   "source": [
    "app = Flask(__name__)\n",
    "model = load_model('./saved_models/test_model.h5', compile=False)\n",
    "\n",
    "@app.route('/index/')\n",
    "def index():\n",
    "    return render_template('MosquitoNet.html')\n",
    "\n",
    "@app.route('/api/audio', methods=['POST'])\n",
    "def upload_audio():\n",
    "    if 'audio' not in request.files:\n",
    "        return render_template('MosquitoNet.html', prediction='No posted audio.')\n",
    "    file = request.files['audio']\n",
    "    \n",
    "    if file.filename == '':\n",
    "        return render_template('MosquitoNet.html', prediction='You did not select an audio.')\n",
    "    \n",
    "    if file and allowed_file(file.filename):\n",
    "        filename = secure_filename(file.filename)\n",
    "        print(\"***\"+filename)\n",
    "        \n",
    "        \"\"\"\n",
    "        Step 1: Read audio file\n",
    "        Step 2: Splice audio file into 1.92s chunks\n",
    "        Step 3: Remove chunks < 1.92\n",
    "        Step 4: Convert chunks into Spectrogram images\n",
    "        Step 5: Get prediction for each image\n",
    "        Step 6: Get average prediction \n",
    "        Step 7: Display results\n",
    "        \"\"\"\n",
    "        \n",
    "        # Read audio file\n",
    "        x, sr = librosa.load(BytesIO(file.read()), sr=8000)\n",
    "        \n",
    "        # Convert to logmel\n",
    "        nfft = 2048\n",
    "        hop_length = 512\n",
    "        n_mels = 128\n",
    "        w = 30\n",
    "\n",
    "        L = librosa.feature.melspectrogram(y=x, sr=sr, n_mels=n_mels, n_fft=nfft, window=w, hop_length=hop_length)\n",
    "\n",
    "        log_power = librosa.power_to_db(L, ref=np.max)\n",
    "\n",
    "        # Plotting the spectrogram and save as JPG without axes (just the image)\n",
    "        pylab.figure(figsize=(3,3))\n",
    "        pylab.axis('off') \n",
    "        pylab.axes([0., 0., 1., 1.], frameon=False, xticks=[], yticks=[]) # Remove the white edge\n",
    "        librosa.display.specshow(log_power, cmap=cm.jet)\n",
    "\n",
    "        buf = BytesIO()\n",
    "        pylab.savefig(buf, bbox_inches=None, pad_inches=0, format=\"jpg\")\n",
    "        buf.seek(0)\n",
    "        \n",
    "        # Encode the image file\n",
    "        encoded_img_data = base64.b64encode(buf.getvalue())\n",
    "\n",
    "        # Load the image\n",
    "        my_image = load_img(buf, target_size=(300, 300))\n",
    "\n",
    "        # Preprocess image\n",
    "        my_image = img_to_array(my_image)\n",
    "        my_image = my_image.reshape((1, my_image.shape[0], my_image.shape[1], my_image.shape[2]))\n",
    "\n",
    "        # Predict output_spectrogram\n",
    "        prediction = model.predict(my_image)\n",
    "        \n",
    "        # Convert prediction to list\n",
    "        lst = [arr.tolist() for arr in prediction]\n",
    "        \n",
    "        # Un-nest the list\n",
    "        lst = [item for sublist in lst for item in sublist]\n",
    "        return render_template('MosquitoNet.html', spectrogram=encoded_img_data.decode('utf-8'), prediction = json.dumps(lst))\n",
    "    else:\n",
    "        return render_template('MosquitoNet.html', prediction='Invalid File')\n",
    "    \n",
    "\n",
    "if __name__ == '__main__':\n",
    "    app.run(debug=True, use_reloader=False)"
   ]
  }
 ],
 "metadata": {
  "kernelspec": {
   "display_name": "my_env",
   "language": "python",
   "name": "my_env"
  },
  "language_info": {
   "codemirror_mode": {
    "name": "ipython",
    "version": 3
   },
   "file_extension": ".py",
   "mimetype": "text/x-python",
   "name": "python",
   "nbconvert_exporter": "python",
   "pygments_lexer": "ipython3",
   "version": "3.10.0"
  }
 },
 "nbformat": 4,
 "nbformat_minor": 5
}
