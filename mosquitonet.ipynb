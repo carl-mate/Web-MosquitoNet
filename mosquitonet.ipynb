{
 "cells": [
  {
   "cell_type": "code",
   "execution_count": 1,
   "id": "f5fda0e8-f314-475a-9010-385ce41a9050",
   "metadata": {},
   "outputs": [
    {
     "name": "stderr",
     "output_type": "stream",
     "text": [
      "C:\\Users\\cmate\\Projects\\School\\CMSC 199.2\\mosquitonet\\my_env\\lib\\site-packages\\pydub\\utils.py:170: RuntimeWarning: Couldn't find ffmpeg or avconv - defaulting to ffmpeg, but may not work\n",
      "  warn(\"Couldn't find ffmpeg or avconv - defaulting to ffmpeg, but may not work\", RuntimeWarning)\n"
     ]
    }
   ],
   "source": [
    "import os\n",
    "import uuid\n",
    "import numpy as np\n",
    "import librosa\n",
    "import pylab\n",
    "import io\n",
    "import json\n",
    "import math\n",
    "\n",
    "from io import BytesIO\n",
    "import base64\n",
    "from werkzeug.utils import secure_filename\n",
    "from flask import Flask, request, jsonify, url_for, render_template\n",
    "from tensorflow.keras.models import load_model\n",
    "from tensorflow.keras.preprocessing.image import load_img, img_to_array\n",
    "from matplotlib import cm\n",
    "from librosa import display\n",
    "from pydub import AudioSegment\n",
    "from pydub.utils import make_chunks\n",
    "from sklearn.preprocessing import normalize"
   ]
  },
  {
   "cell_type": "code",
   "execution_count": 2,
   "id": "bdc6b1e2-4543-42a8-9b12-53c0ce34a065",
   "metadata": {},
   "outputs": [],
   "source": [
    "ALLOWED_EXTENSION = set(['wav'])\n",
    "IMAGE_SIZE = (300, 300)"
   ]
  },
  {
   "cell_type": "code",
   "execution_count": 3,
   "id": "e60fdb5e-8034-4d9d-b6c1-a3c14eaeb97e",
   "metadata": {},
   "outputs": [],
   "source": [
    "def splice(audio):\n",
    "    my_audio = AudioSegment.from_file(audio, \"wav\")\n",
    "    chunk_length_ms = 1920\n",
    "    chunks = make_chunks(my_audio, chunk_length_ms) #Make chunks of 1.92s\n",
    "    chunk_list = []\n",
    "    for chunk in chunks:\n",
    "        # Ignore audio that are less than 1.92s\n",
    "        if not math.isclose(chunk.duration_seconds, 1.92) and float(chunk.duration_seconds) < 1.92:\n",
    "            continue\n",
    "        chunk_list.append(chunk.export(BytesIO(), format=\"wav\"))\n",
    "    return chunk_list\n",
    "\n",
    "def convert_logmel(chunks):\n",
    "    converted_chunks = []\n",
    "    nfft = 2048\n",
    "    hop_length = 512\n",
    "    n_mels = 128\n",
    "    w = 30\n",
    "    \n",
    "    for chunk in chunks:\n",
    "        x, sr = librosa.load(chunk, sr=8000)\n",
    "        L = librosa.feature.melspectrogram(y=x, sr=sr, n_mels=n_mels, n_fft=nfft, window=w, hop_length=hop_length)\n",
    "        log_power = librosa.power_to_db(L, ref=np.max)\n",
    "        pylab.figure(figsize=(3,3))\n",
    "        pylab.axis('off') \n",
    "        pylab.axes([0., 0., 1., 1.], frameon=False, xticks=[], yticks=[]) # Remove the white edge\n",
    "        librosa.display.specshow(log_power, cmap=cm.jet)\n",
    "        buf = BytesIO()\n",
    "        pylab.savefig(buf, bbox_inches=None, pad_inches=0, format=\"jpg\")\n",
    "        buf.seek(0)\n",
    "        converted_chunks.append(buf)\n",
    "    return converted_chunks\n",
    "\n",
    "def convert_mfcc(chunks):\n",
    "    converted_chunks = []\n",
    "    nfft = 2048\n",
    "    hop_length = 512\n",
    "    n_mfcc = 13 # 13 - 20 mfcc\n",
    "    n_mels = 128\n",
    "    w = 30\n",
    "    \n",
    "    for chunk in chunks:\n",
    "        x, sr = librosa.load(chunk, sr=8000)\n",
    "        M = librosa.feature.mfcc(y=x, sr=sr, n_mfcc=n_mfcc, n_mels=n_mels, n_fft=nfft, window=w, hop_length=hop_length)\n",
    "        pylab.figure(figsize=(3,3))\n",
    "        pylab.axis('off') \n",
    "        pylab.axes([0., 0., 1., 1.], frameon=False, xticks=[], yticks=[]) # Remove the white edge\n",
    "        librosa.display.specshow(M, cmap=cm.jet)\n",
    "        buf = BytesIO()\n",
    "        pylab.savefig(buf, bbox_inches=None, pad_inches=0, format=\"jpg\")\n",
    "        buf.seek(0)\n",
    "        converted_chunks.append(buf)\n",
    "    return converted_chunks\n",
    "\n",
    "def predict(logmel_specs, mfcc_specs):\n",
    "    prediction_list = []\n",
    "    \n",
    "    for logmel, mfcc in zip(logmel_specs, mfcc_specs):\n",
    "        # Reshape log-mel specs\n",
    "        logmel_image = load_img(logmel, target_size=(300,300))\n",
    "        logmel_image = img_to_array(logmel_image)\n",
    "        logmel_normalized = logmel_image / 255.0\n",
    "        logmel_normalized = logmel_normalized.reshape((1, logmel_normalized.shape[0], logmel_normalized.shape[1], logmel_normalized.shape[2]))\n",
    "        # Reshape MFCC specs\n",
    "        mfcc_image = load_img(mfcc, target_size=(300,300))\n",
    "        mfcc_image = img_to_array(mfcc_image)\n",
    "        mfcc_normalized = mfcc_image / 255.0\n",
    "        mfcc_normalized = mfcc_normalized.reshape((1, mfcc_normalized.shape[0], mfcc_normalized.shape[1], mfcc_normalized.shape[2]))\n",
    "        # Predict\n",
    "        prediction_list.append(model.predict([logmel_normalized, mfcc_normalized]))\n",
    "    return prediction_list"
   ]
  },
  {
   "cell_type": "code",
   "execution_count": 4,
   "id": "b0881452-8fb6-4dd0-951c-ea4c8bed027e",
   "metadata": {},
   "outputs": [],
   "source": [
    "def allowed_file(filename):\n",
    "    return '.' in filename and filename.rsplit('.', 1)[1] in ALLOWED_EXTENSION"
   ]
  },
  {
   "cell_type": "code",
   "execution_count": null,
   "id": "cfdfd6fd-dc9e-4c0d-ade4-7f0d849b8464",
   "metadata": {},
   "outputs": [
    {
     "name": "stdout",
     "output_type": "stream",
     "text": [
      " * Serving Flask app '__main__'\n",
      " * Debug mode: on\n"
     ]
    },
    {
     "name": "stderr",
     "output_type": "stream",
     "text": [
      "WARNING: This is a development server. Do not use it in a production deployment. Use a production WSGI server instead.\n",
      " * Running on http://127.0.0.1:5000\n",
      "Press CTRL+C to quit\n",
      "127.0.0.1 - - [06/Apr/2023 14:54:55] \"GET /index/ HTTP/1.1\" 200 -\n",
      "127.0.0.1 - - [06/Apr/2023 14:54:55] \"GET /static/css/style.css HTTP/1.1\" 304 -\n"
     ]
    },
    {
     "name": "stdout",
     "output_type": "stream",
     "text": [
      "***220297.wav\n",
      "1/1 [==============================] - 0s 473ms/step\n"
     ]
    },
    {
     "name": "stderr",
     "output_type": "stream",
     "text": [
      "127.0.0.1 - - [06/Apr/2023 14:55:06] \"POST /api/audio HTTP/1.1\" 200 -\n",
      "127.0.0.1 - - [06/Apr/2023 14:55:06] \"GET /static/css/style.css HTTP/1.1\" 304 -\n"
     ]
    },
    {
     "name": "stdout",
     "output_type": "stream",
     "text": [
      "***220561.wav\n",
      "1/1 [==============================] - 0s 274ms/step\n"
     ]
    },
    {
     "name": "stderr",
     "output_type": "stream",
     "text": [
      "127.0.0.1 - - [06/Apr/2023 15:57:31] \"POST /api/audio HTTP/1.1\" 200 -\n",
      "127.0.0.1 - - [06/Apr/2023 15:57:31] \"GET /static/css/style.css HTTP/1.1\" 304 -\n"
     ]
    },
    {
     "name": "stdout",
     "output_type": "stream",
     "text": [
      "***220592.wav\n",
      "1/1 [==============================] - 0s 275ms/step\n"
     ]
    },
    {
     "name": "stderr",
     "output_type": "stream",
     "text": [
      "127.0.0.1 - - [06/Apr/2023 15:57:40] \"POST /api/audio HTTP/1.1\" 200 -\n",
      "127.0.0.1 - - [06/Apr/2023 15:57:40] \"GET /static/css/style.css HTTP/1.1\" 304 -\n"
     ]
    },
    {
     "name": "stdout",
     "output_type": "stream",
     "text": [
      "***220592.wav\n",
      "1/1 [==============================] - 0s 287ms/step\n"
     ]
    },
    {
     "name": "stderr",
     "output_type": "stream",
     "text": [
      "127.0.0.1 - - [06/Apr/2023 17:43:25] \"POST /api/audio HTTP/1.1\" 200 -\n",
      "127.0.0.1 - - [06/Apr/2023 17:43:25] \"GET /static/css/style.css HTTP/1.1\" 304 -\n"
     ]
    },
    {
     "name": "stdout",
     "output_type": "stream",
     "text": [
      "***221103.wav\n",
      "1/1 [==============================] - 0s 273ms/step\n"
     ]
    },
    {
     "name": "stderr",
     "output_type": "stream",
     "text": [
      "127.0.0.1 - - [06/Apr/2023 17:43:35] \"POST /api/audio HTTP/1.1\" 200 -\n",
      "127.0.0.1 - - [06/Apr/2023 17:43:35] \"GET /static/css/style.css HTTP/1.1\" 304 -\n"
     ]
    },
    {
     "name": "stdout",
     "output_type": "stream",
     "text": [
      "***221110.wav\n",
      "1/1 [==============================] - 0s 287ms/step\n"
     ]
    },
    {
     "name": "stderr",
     "output_type": "stream",
     "text": [
      "127.0.0.1 - - [06/Apr/2023 17:43:42] \"POST /api/audio HTTP/1.1\" 200 -\n",
      "127.0.0.1 - - [06/Apr/2023 17:43:42] \"GET /static/css/style.css HTTP/1.1\" 304 -\n"
     ]
    },
    {
     "name": "stdout",
     "output_type": "stream",
     "text": [
      "***221230.wav\n",
      "1/1 [==============================] - 0s 277ms/step\n"
     ]
    },
    {
     "name": "stderr",
     "output_type": "stream",
     "text": [
      "127.0.0.1 - - [06/Apr/2023 17:43:50] \"POST /api/audio HTTP/1.1\" 200 -\n",
      "127.0.0.1 - - [06/Apr/2023 17:43:50] \"GET /static/css/style.css HTTP/1.1\" 304 -\n"
     ]
    },
    {
     "name": "stdout",
     "output_type": "stream",
     "text": [
      "***221137.wav\n",
      "1/1 [==============================] - 0s 276ms/step\n"
     ]
    },
    {
     "name": "stderr",
     "output_type": "stream",
     "text": [
      "127.0.0.1 - - [06/Apr/2023 17:43:58] \"POST /api/audio HTTP/1.1\" 200 -\n",
      "127.0.0.1 - - [06/Apr/2023 17:43:58] \"GET /static/css/style.css HTTP/1.1\" 304 -\n",
      "127.0.0.1 - - [06/Apr/2023 17:52:49] \"GET /index/ HTTP/1.1\" 200 -\n",
      "127.0.0.1 - - [06/Apr/2023 17:52:49] \"GET /static/css/style.css HTTP/1.1\" 304 -\n",
      "127.0.0.1 - - [06/Apr/2023 17:58:21] \"GET /index/ HTTP/1.1\" 200 -\n",
      "127.0.0.1 - - [06/Apr/2023 17:58:21] \"GET /static/css/style.css HTTP/1.1\" 200 -\n"
     ]
    },
    {
     "name": "stdout",
     "output_type": "stream",
     "text": [
      "***206567.wav\n",
      "1/1 [==============================] - 0s 269ms/step\n"
     ]
    },
    {
     "name": "stderr",
     "output_type": "stream",
     "text": [
      "127.0.0.1 - - [06/Apr/2023 17:58:39] \"POST /api/audio HTTP/1.1\" 200 -\n",
      "127.0.0.1 - - [06/Apr/2023 17:58:39] \"GET /static/css/style.css HTTP/1.1\" 304 -\n",
      "127.0.0.1 - - [06/Apr/2023 18:10:35] \"GET /index/ HTTP/1.1\" 200 -\n",
      "127.0.0.1 - - [06/Apr/2023 18:10:35] \"GET /static/css/style.css HTTP/1.1\" 304 -\n",
      "127.0.0.1 - - [06/Apr/2023 18:21:02] \"GET /index/ HTTP/1.1\" 200 -\n",
      "127.0.0.1 - - [06/Apr/2023 18:21:02] \"GET /static/css/style.css HTTP/1.1\" 304 -\n",
      "127.0.0.1 - - [06/Apr/2023 18:21:22] \"GET /index/ HTTP/1.1\" 200 -\n",
      "127.0.0.1 - - [06/Apr/2023 18:21:22] \"GET /static/css/style.css HTTP/1.1\" 304 -\n",
      "127.0.0.1 - - [06/Apr/2023 18:21:27] \"GET /index/ HTTP/1.1\" 200 -\n",
      "127.0.0.1 - - [06/Apr/2023 18:21:27] \"GET /static/css/style.css HTTP/1.1\" 304 -\n"
     ]
    },
    {
     "name": "stdout",
     "output_type": "stream",
     "text": [
      "***220297.wav\n",
      "1/1 [==============================] - 0s 267ms/step\n"
     ]
    },
    {
     "name": "stderr",
     "output_type": "stream",
     "text": [
      "127.0.0.1 - - [06/Apr/2023 18:21:36] \"POST /api/audio HTTP/1.1\" 200 -\n",
      "127.0.0.1 - - [06/Apr/2023 18:21:36] \"GET /static/css/style.css HTTP/1.1\" 304 -\n"
     ]
    },
    {
     "name": "stdout",
     "output_type": "stream",
     "text": [
      "***220297.wav\n"
     ]
    },
    {
     "name": "stderr",
     "output_type": "stream",
     "text": [
      "C:\\Users\\cmate\\AppData\\Local\\Temp\\ipykernel_20744\\2879314167.py:24: RuntimeWarning: More than 20 figures have been opened. Figures created through the pyplot interface (`matplotlib.pyplot.figure`) are retained until explicitly closed and may consume too much memory. (To control this warning, see the rcParam `figure.max_open_warning`). Consider using `matplotlib.pyplot.close()`.\n",
      "  pylab.figure(figsize=(3,3))\n"
     ]
    },
    {
     "name": "stdout",
     "output_type": "stream",
     "text": [
      "1/1 [==============================] - 0s 303ms/step\n"
     ]
    },
    {
     "name": "stderr",
     "output_type": "stream",
     "text": [
      "127.0.0.1 - - [06/Apr/2023 18:23:49] \"POST /api/audio HTTP/1.1\" 200 -\n",
      "127.0.0.1 - - [06/Apr/2023 18:23:49] \"GET /static/css/style.css HTTP/1.1\" 304 -\n",
      "127.0.0.1 - - [06/Apr/2023 18:24:30] \"GET /index/ HTTP/1.1\" 200 -\n",
      "127.0.0.1 - - [06/Apr/2023 18:24:30] \"GET /static/css/style.css HTTP/1.1\" 304 -\n"
     ]
    },
    {
     "name": "stdout",
     "output_type": "stream",
     "text": [
      "***220406.wav\n",
      "1/1 [==============================] - 0s 282ms/step\n"
     ]
    },
    {
     "name": "stderr",
     "output_type": "stream",
     "text": [
      "127.0.0.1 - - [06/Apr/2023 18:24:42] \"POST /api/audio HTTP/1.1\" 200 -\n",
      "127.0.0.1 - - [06/Apr/2023 18:24:42] \"GET /static/css/style.css HTTP/1.1\" 304 -\n"
     ]
    },
    {
     "name": "stdout",
     "output_type": "stream",
     "text": [
      "***220399.wav\n",
      "1/1 [==============================] - 0s 274ms/step\n"
     ]
    },
    {
     "name": "stderr",
     "output_type": "stream",
     "text": [
      "127.0.0.1 - - [07/Apr/2023 07:00:40] \"POST /api/audio HTTP/1.1\" 200 -\n",
      "127.0.0.1 - - [07/Apr/2023 07:00:40] \"GET /static/css/style.css HTTP/1.1\" 304 -\n"
     ]
    },
    {
     "name": "stdout",
     "output_type": "stream",
     "text": [
      "***220472.wav\n",
      "1/1 [==============================] - 0s 278ms/step\n"
     ]
    },
    {
     "name": "stderr",
     "output_type": "stream",
     "text": [
      "127.0.0.1 - - [07/Apr/2023 07:00:49] \"POST /api/audio HTTP/1.1\" 200 -\n",
      "127.0.0.1 - - [07/Apr/2023 07:00:49] \"GET /static/css/style.css HTTP/1.1\" 304 -\n"
     ]
    },
    {
     "name": "stdout",
     "output_type": "stream",
     "text": [
      "***220412.wav\n",
      "1/1 [==============================] - 0s 279ms/step\n"
     ]
    },
    {
     "name": "stderr",
     "output_type": "stream",
     "text": [
      "127.0.0.1 - - [07/Apr/2023 07:00:56] \"POST /api/audio HTTP/1.1\" 200 -\n",
      "127.0.0.1 - - [07/Apr/2023 07:00:56] \"GET /static/css/style.css HTTP/1.1\" 304 -\n"
     ]
    },
    {
     "name": "stdout",
     "output_type": "stream",
     "text": [
      "***220411.wav\n",
      "1/1 [==============================] - 0s 266ms/step\n"
     ]
    },
    {
     "name": "stderr",
     "output_type": "stream",
     "text": [
      "127.0.0.1 - - [07/Apr/2023 07:01:02] \"POST /api/audio HTTP/1.1\" 200 -\n",
      "127.0.0.1 - - [07/Apr/2023 07:01:02] \"GET /static/css/style.css HTTP/1.1\" 304 -\n"
     ]
    },
    {
     "name": "stdout",
     "output_type": "stream",
     "text": [
      "***220316.wav\n",
      "1/1 [==============================] - 0s 296ms/step\n"
     ]
    },
    {
     "name": "stderr",
     "output_type": "stream",
     "text": [
      "127.0.0.1 - - [07/Apr/2023 07:01:36] \"POST /api/audio HTTP/1.1\" 200 -\n",
      "127.0.0.1 - - [07/Apr/2023 07:01:36] \"GET /static/css/style.css HTTP/1.1\" 304 -\n"
     ]
    },
    {
     "name": "stdout",
     "output_type": "stream",
     "text": [
      "***220412.wav\n",
      "1/1 [==============================] - 0s 265ms/step\n"
     ]
    },
    {
     "name": "stderr",
     "output_type": "stream",
     "text": [
      "127.0.0.1 - - [07/Apr/2023 07:01:44] \"POST /api/audio HTTP/1.1\" 200 -\n",
      "127.0.0.1 - - [07/Apr/2023 07:01:44] \"GET /static/css/style.css HTTP/1.1\" 304 -\n"
     ]
    },
    {
     "name": "stdout",
     "output_type": "stream",
     "text": [
      "***220291.wav\n",
      "1/1 [==============================] - 0s 275ms/step\n"
     ]
    },
    {
     "name": "stderr",
     "output_type": "stream",
     "text": [
      "127.0.0.1 - - [07/Apr/2023 07:01:57] \"POST /api/audio HTTP/1.1\" 200 -\n",
      "127.0.0.1 - - [07/Apr/2023 07:01:57] \"GET /static/css/style.css HTTP/1.1\" 304 -\n"
     ]
    },
    {
     "name": "stdout",
     "output_type": "stream",
     "text": [
      "***220297.wav\n",
      "1/1 [==============================] - 0s 287ms/step\n"
     ]
    },
    {
     "name": "stderr",
     "output_type": "stream",
     "text": [
      "127.0.0.1 - - [07/Apr/2023 07:02:09] \"POST /api/audio HTTP/1.1\" 200 -\n",
      "127.0.0.1 - - [07/Apr/2023 07:02:09] \"GET /static/css/style.css HTTP/1.1\" 304 -\n"
     ]
    },
    {
     "name": "stdout",
     "output_type": "stream",
     "text": [
      "***220307.wav\n",
      "1/1 [==============================] - 0s 294ms/step\n"
     ]
    },
    {
     "name": "stderr",
     "output_type": "stream",
     "text": [
      "127.0.0.1 - - [07/Apr/2023 07:02:22] \"POST /api/audio HTTP/1.1\" 200 -\n",
      "127.0.0.1 - - [07/Apr/2023 07:02:22] \"GET /static/css/style.css HTTP/1.1\" 304 -\n"
     ]
    },
    {
     "name": "stdout",
     "output_type": "stream",
     "text": [
      "***220308.wav\n",
      "1/1 [==============================] - 0s 277ms/step\n"
     ]
    },
    {
     "name": "stderr",
     "output_type": "stream",
     "text": [
      "127.0.0.1 - - [07/Apr/2023 07:02:35] \"POST /api/audio HTTP/1.1\" 200 -\n",
      "127.0.0.1 - - [07/Apr/2023 07:02:35] \"GET /static/css/style.css HTTP/1.1\" 304 -\n"
     ]
    },
    {
     "name": "stdout",
     "output_type": "stream",
     "text": [
      "***201096.wav\n",
      "1/1 [==============================] - 0s 279ms/step\n"
     ]
    },
    {
     "name": "stderr",
     "output_type": "stream",
     "text": [
      "127.0.0.1 - - [07/Apr/2023 07:02:46] \"POST /api/audio HTTP/1.1\" 200 -\n",
      "127.0.0.1 - - [07/Apr/2023 07:02:46] \"GET /static/css/style.css HTTP/1.1\" 304 -\n"
     ]
    },
    {
     "name": "stdout",
     "output_type": "stream",
     "text": [
      "***202146.wav\n",
      "1/1 [==============================] - 0s 279ms/step\n"
     ]
    },
    {
     "name": "stderr",
     "output_type": "stream",
     "text": [
      "127.0.0.1 - - [07/Apr/2023 07:02:53] \"POST /api/audio HTTP/1.1\" 200 -\n",
      "127.0.0.1 - - [07/Apr/2023 07:02:53] \"GET /static/css/style.css HTTP/1.1\" 304 -\n"
     ]
    },
    {
     "name": "stdout",
     "output_type": "stream",
     "text": [
      "***201309.wav\n",
      "1/1 [==============================] - 0s 286ms/step\n"
     ]
    },
    {
     "name": "stderr",
     "output_type": "stream",
     "text": [
      "127.0.0.1 - - [07/Apr/2023 07:03:03] \"POST /api/audio HTTP/1.1\" 200 -\n",
      "127.0.0.1 - - [07/Apr/2023 07:03:03] \"GET /static/css/style.css HTTP/1.1\" 304 -\n"
     ]
    },
    {
     "name": "stdout",
     "output_type": "stream",
     "text": [
      "***201823.wav\n",
      "1/1 [==============================] - 0s 290ms/step\n"
     ]
    },
    {
     "name": "stderr",
     "output_type": "stream",
     "text": [
      "127.0.0.1 - - [07/Apr/2023 07:03:11] \"POST /api/audio HTTP/1.1\" 200 -\n",
      "127.0.0.1 - - [07/Apr/2023 07:03:11] \"GET /static/css/style.css HTTP/1.1\" 304 -\n"
     ]
    },
    {
     "name": "stdout",
     "output_type": "stream",
     "text": [
      "***202188.wav\n",
      "1/1 [==============================] - 0s 307ms/step\n"
     ]
    },
    {
     "name": "stderr",
     "output_type": "stream",
     "text": [
      "127.0.0.1 - - [07/Apr/2023 07:03:18] \"POST /api/audio HTTP/1.1\" 200 -\n",
      "127.0.0.1 - - [07/Apr/2023 07:03:18] \"GET /static/css/style.css HTTP/1.1\" 304 -\n"
     ]
    },
    {
     "name": "stdout",
     "output_type": "stream",
     "text": [
      "***222653.wav\n",
      "1/1 [==============================] - 0s 294ms/step\n"
     ]
    },
    {
     "name": "stderr",
     "output_type": "stream",
     "text": [
      "127.0.0.1 - - [07/Apr/2023 07:03:24] \"POST /api/audio HTTP/1.1\" 200 -\n",
      "127.0.0.1 - - [07/Apr/2023 07:03:24] \"GET /static/css/style.css HTTP/1.1\" 304 -\n"
     ]
    },
    {
     "name": "stdout",
     "output_type": "stream",
     "text": [
      "***1767.wav\n",
      "1/1 [==============================] - 0s 310ms/step\n"
     ]
    },
    {
     "name": "stderr",
     "output_type": "stream",
     "text": [
      "127.0.0.1 - - [07/Apr/2023 07:03:35] \"POST /api/audio HTTP/1.1\" 200 -\n",
      "127.0.0.1 - - [07/Apr/2023 07:03:35] \"GET /static/css/style.css HTTP/1.1\" 304 -\n"
     ]
    },
    {
     "name": "stdout",
     "output_type": "stream",
     "text": [
      "***1757.wav\n",
      "1/1 [==============================] - 0s 279ms/step\n"
     ]
    },
    {
     "name": "stderr",
     "output_type": "stream",
     "text": [
      "127.0.0.1 - - [07/Apr/2023 07:03:42] \"POST /api/audio HTTP/1.1\" 200 -\n",
      "127.0.0.1 - - [07/Apr/2023 07:03:42] \"GET /static/css/style.css HTTP/1.1\" 304 -\n"
     ]
    },
    {
     "name": "stdout",
     "output_type": "stream",
     "text": [
      "***807.wav\n",
      "1/1 [==============================] - 0s 270ms/step\n"
     ]
    },
    {
     "name": "stderr",
     "output_type": "stream",
     "text": [
      "127.0.0.1 - - [07/Apr/2023 07:03:48] \"POST /api/audio HTTP/1.1\" 200 -\n",
      "127.0.0.1 - - [07/Apr/2023 07:03:48] \"GET /static/css/style.css HTTP/1.1\" 304 -\n"
     ]
    },
    {
     "name": "stdout",
     "output_type": "stream",
     "text": [
      "***220970.wav\n",
      "1/1 [==============================] - 0s 283ms/step\n"
     ]
    },
    {
     "name": "stderr",
     "output_type": "stream",
     "text": [
      "127.0.0.1 - - [07/Apr/2023 07:03:58] \"POST /api/audio HTTP/1.1\" 200 -\n",
      "127.0.0.1 - - [07/Apr/2023 07:03:58] \"GET /static/css/style.css HTTP/1.1\" 304 -\n"
     ]
    },
    {
     "name": "stdout",
     "output_type": "stream",
     "text": [
      "***220091.wav\n",
      "1/1 [==============================] - 0s 274ms/step\n"
     ]
    },
    {
     "name": "stderr",
     "output_type": "stream",
     "text": [
      "127.0.0.1 - - [07/Apr/2023 07:04:19] \"POST /api/audio HTTP/1.1\" 200 -\n",
      "127.0.0.1 - - [07/Apr/2023 07:04:19] \"GET /static/css/style.css HTTP/1.1\" 304 -\n"
     ]
    },
    {
     "name": "stdout",
     "output_type": "stream",
     "text": [
      "***220876.wav\n",
      "1/1 [==============================] - 0s 284ms/step\n"
     ]
    },
    {
     "name": "stderr",
     "output_type": "stream",
     "text": [
      "127.0.0.1 - - [07/Apr/2023 07:04:35] \"POST /api/audio HTTP/1.1\" 200 -\n",
      "127.0.0.1 - - [07/Apr/2023 07:04:35] \"GET /static/css/style.css HTTP/1.1\" 304 -\n"
     ]
    },
    {
     "name": "stdout",
     "output_type": "stream",
     "text": [
      "***221148.wav\n",
      "1/1 [==============================] - 0s 274ms/step\n"
     ]
    },
    {
     "name": "stderr",
     "output_type": "stream",
     "text": [
      "127.0.0.1 - - [07/Apr/2023 07:04:43] \"POST /api/audio HTTP/1.1\" 200 -\n",
      "127.0.0.1 - - [07/Apr/2023 07:04:43] \"GET /static/css/style.css HTTP/1.1\" 304 -\n"
     ]
    },
    {
     "name": "stdout",
     "output_type": "stream",
     "text": [
      "***220089.wav\n",
      "1/1 [==============================] - 0s 279ms/step\n"
     ]
    },
    {
     "name": "stderr",
     "output_type": "stream",
     "text": [
      "127.0.0.1 - - [07/Apr/2023 07:04:50] \"POST /api/audio HTTP/1.1\" 200 -\n",
      "127.0.0.1 - - [07/Apr/2023 07:04:50] \"GET /static/css/style.css HTTP/1.1\" 304 -\n"
     ]
    },
    {
     "name": "stdout",
     "output_type": "stream",
     "text": [
      "***221026.wav\n",
      "1/1 [==============================] - 0s 275ms/step\n"
     ]
    },
    {
     "name": "stderr",
     "output_type": "stream",
     "text": [
      "127.0.0.1 - - [07/Apr/2023 07:04:56] \"POST /api/audio HTTP/1.1\" 200 -\n",
      "127.0.0.1 - - [07/Apr/2023 07:04:57] \"GET /static/css/style.css HTTP/1.1\" 304 -\n"
     ]
    },
    {
     "name": "stdout",
     "output_type": "stream",
     "text": [
      "***221236.wav\n",
      "1/1 [==============================] - 0s 280ms/step\n"
     ]
    },
    {
     "name": "stderr",
     "output_type": "stream",
     "text": [
      "127.0.0.1 - - [07/Apr/2023 07:05:02] \"POST /api/audio HTTP/1.1\" 200 -\n",
      "127.0.0.1 - - [07/Apr/2023 07:05:02] \"GET /static/css/style.css HTTP/1.1\" 304 -\n"
     ]
    },
    {
     "name": "stdout",
     "output_type": "stream",
     "text": [
      "***222494.wav\n",
      "1/1 [==============================] - 0s 276ms/step\n"
     ]
    },
    {
     "name": "stderr",
     "output_type": "stream",
     "text": [
      "127.0.0.1 - - [07/Apr/2023 07:05:09] \"POST /api/audio HTTP/1.1\" 200 -\n",
      "127.0.0.1 - - [07/Apr/2023 07:05:09] \"GET /static/css/style.css HTTP/1.1\" 304 -\n"
     ]
    },
    {
     "name": "stdout",
     "output_type": "stream",
     "text": [
      "***221840.wav\n",
      "1/1 [==============================] - 0s 275ms/step\n"
     ]
    },
    {
     "name": "stderr",
     "output_type": "stream",
     "text": [
      "127.0.0.1 - - [07/Apr/2023 07:05:17] \"POST /api/audio HTTP/1.1\" 200 -\n",
      "127.0.0.1 - - [07/Apr/2023 07:05:17] \"GET /static/css/style.css HTTP/1.1\" 304 -\n"
     ]
    },
    {
     "name": "stdout",
     "output_type": "stream",
     "text": [
      "***220977.wav\n",
      "1/1 [==============================] - 0s 300ms/step\n"
     ]
    },
    {
     "name": "stderr",
     "output_type": "stream",
     "text": [
      "127.0.0.1 - - [07/Apr/2023 07:05:25] \"POST /api/audio HTTP/1.1\" 200 -\n",
      "127.0.0.1 - - [07/Apr/2023 07:05:25] \"GET /static/css/style.css HTTP/1.1\" 304 -\n"
     ]
    },
    {
     "name": "stdout",
     "output_type": "stream",
     "text": [
      "***221236.wav\n",
      "1/1 [==============================] - 0s 282ms/step\n"
     ]
    },
    {
     "name": "stderr",
     "output_type": "stream",
     "text": [
      "127.0.0.1 - - [07/Apr/2023 07:05:38] \"POST /api/audio HTTP/1.1\" 200 -\n",
      "127.0.0.1 - - [07/Apr/2023 07:05:38] \"GET /static/css/style.css HTTP/1.1\" 304 -\n"
     ]
    },
    {
     "name": "stdout",
     "output_type": "stream",
     "text": [
      "***206567.wav\n",
      "1/1 [==============================] - 0s 289ms/step\n"
     ]
    },
    {
     "name": "stderr",
     "output_type": "stream",
     "text": [
      "127.0.0.1 - - [07/Apr/2023 07:06:30] \"POST /api/audio HTTP/1.1\" 200 -\n",
      "127.0.0.1 - - [07/Apr/2023 07:06:30] \"GET /static/css/style.css HTTP/1.1\" 304 -\n"
     ]
    },
    {
     "name": "stdout",
     "output_type": "stream",
     "text": [
      "***206590.wav\n",
      "1/1 [==============================] - 0s 280ms/step\n"
     ]
    },
    {
     "name": "stderr",
     "output_type": "stream",
     "text": [
      "127.0.0.1 - - [07/Apr/2023 07:06:35] \"POST /api/audio HTTP/1.1\" 200 -\n",
      "127.0.0.1 - - [07/Apr/2023 07:06:35] \"GET /static/css/style.css HTTP/1.1\" 304 -\n"
     ]
    },
    {
     "name": "stdout",
     "output_type": "stream",
     "text": [
      "***206638.wav\n",
      "1/1 [==============================] - 0s 294ms/step\n"
     ]
    },
    {
     "name": "stderr",
     "output_type": "stream",
     "text": [
      "127.0.0.1 - - [07/Apr/2023 07:06:40] \"POST /api/audio HTTP/1.1\" 200 -\n",
      "127.0.0.1 - - [07/Apr/2023 07:06:40] \"GET /static/css/style.css HTTP/1.1\" 304 -\n"
     ]
    },
    {
     "name": "stdout",
     "output_type": "stream",
     "text": [
      "***208569.wav\n",
      "1/1 [==============================] - 0s 272ms/step\n"
     ]
    },
    {
     "name": "stderr",
     "output_type": "stream",
     "text": [
      "127.0.0.1 - - [07/Apr/2023 07:06:47] \"POST /api/audio HTTP/1.1\" 200 -\n",
      "127.0.0.1 - - [07/Apr/2023 07:06:47] \"GET /static/css/style.css HTTP/1.1\" 304 -\n"
     ]
    },
    {
     "name": "stdout",
     "output_type": "stream",
     "text": [
      "***208623.wav\n",
      "1/1 [==============================] - 0s 303ms/step\n"
     ]
    },
    {
     "name": "stderr",
     "output_type": "stream",
     "text": [
      "127.0.0.1 - - [07/Apr/2023 07:07:06] \"POST /api/audio HTTP/1.1\" 200 -\n",
      "127.0.0.1 - - [07/Apr/2023 07:07:06] \"GET /static/css/style.css HTTP/1.1\" 304 -\n"
     ]
    },
    {
     "name": "stdout",
     "output_type": "stream",
     "text": [
      "***221990.wav\n",
      "1/1 [==============================] - 0s 281ms/step\n"
     ]
    },
    {
     "name": "stderr",
     "output_type": "stream",
     "text": [
      "127.0.0.1 - - [07/Apr/2023 07:07:12] \"POST /api/audio HTTP/1.1\" 200 -\n",
      "127.0.0.1 - - [07/Apr/2023 07:07:12] \"GET /static/css/style.css HTTP/1.1\" 304 -\n"
     ]
    },
    {
     "name": "stdout",
     "output_type": "stream",
     "text": [
      "***221917.wav\n",
      "1/1 [==============================] - 0s 279ms/step\n"
     ]
    },
    {
     "name": "stderr",
     "output_type": "stream",
     "text": [
      "127.0.0.1 - - [07/Apr/2023 07:07:19] \"POST /api/audio HTTP/1.1\" 200 -\n",
      "127.0.0.1 - - [07/Apr/2023 07:07:19] \"GET /static/css/style.css HTTP/1.1\" 304 -\n"
     ]
    },
    {
     "name": "stdout",
     "output_type": "stream",
     "text": [
      "***221901.wav\n",
      "1/1 [==============================] - 0s 277ms/step\n"
     ]
    },
    {
     "name": "stderr",
     "output_type": "stream",
     "text": [
      "127.0.0.1 - - [07/Apr/2023 07:07:25] \"POST /api/audio HTTP/1.1\" 200 -\n",
      "127.0.0.1 - - [07/Apr/2023 07:07:25] \"GET /static/css/style.css HTTP/1.1\" 304 -\n"
     ]
    },
    {
     "name": "stdout",
     "output_type": "stream",
     "text": [
      "***206890.wav\n",
      "1/1 [==============================] - 0s 276ms/step\n"
     ]
    },
    {
     "name": "stderr",
     "output_type": "stream",
     "text": [
      "127.0.0.1 - - [07/Apr/2023 07:07:32] \"POST /api/audio HTTP/1.1\" 200 -\n",
      "127.0.0.1 - - [07/Apr/2023 07:07:32] \"GET /static/css/style.css HTTP/1.1\" 304 -\n",
      "127.0.0.1 - - [07/Apr/2023 09:43:19] \"GET /index/ HTTP/1.1\" 200 -\n",
      "127.0.0.1 - - [07/Apr/2023 09:43:19] \"GET /static/css/style.css HTTP/1.1\" 304 -\n",
      "127.0.0.1 - - [07/Apr/2023 09:43:50] \"GET /index/ HTTP/1.1\" 200 -\n",
      "127.0.0.1 - - [07/Apr/2023 09:43:50] \"GET /static/css/style.css HTTP/1.1\" 304 -\n",
      "127.0.0.1 - - [07/Apr/2023 09:59:07] \"GET /index/ HTTP/1.1\" 200 -\n",
      "127.0.0.1 - - [07/Apr/2023 09:59:07] \"GET /static/css/style.css HTTP/1.1\" 200 -\n",
      "127.0.0.1 - - [07/Apr/2023 09:59:27] \"GET /index/ HTTP/1.1\" 200 -\n",
      "127.0.0.1 - - [07/Apr/2023 09:59:27] \"GET /static/css/style.css HTTP/1.1\" 304 -\n",
      "127.0.0.1 - - [07/Apr/2023 09:59:35] \"GET /index/ HTTP/1.1\" 200 -\n",
      "127.0.0.1 - - [07/Apr/2023 09:59:35] \"GET /static/css/style.css HTTP/1.1\" 304 -\n",
      "127.0.0.1 - - [07/Apr/2023 09:59:44] \"GET /index/ HTTP/1.1\" 200 -\n",
      "127.0.0.1 - - [07/Apr/2023 09:59:44] \"GET /static/css/style.css HTTP/1.1\" 304 -\n",
      "127.0.0.1 - - [07/Apr/2023 10:00:08] \"GET /index/ HTTP/1.1\" 200 -\n",
      "127.0.0.1 - - [07/Apr/2023 10:00:08] \"GET /static/css/style.css HTTP/1.1\" 200 -\n",
      "127.0.0.1 - - [07/Apr/2023 10:00:32] \"GET /index/ HTTP/1.1\" 200 -\n",
      "127.0.0.1 - - [07/Apr/2023 10:00:32] \"GET /static/css/style.css HTTP/1.1\" 200 -\n",
      "127.0.0.1 - - [07/Apr/2023 10:00:44] \"GET /index/ HTTP/1.1\" 200 -\n",
      "127.0.0.1 - - [07/Apr/2023 10:00:44] \"GET /static/css/style.css HTTP/1.1\" 200 -\n",
      "127.0.0.1 - - [07/Apr/2023 10:00:53] \"GET /index/ HTTP/1.1\" 200 -\n",
      "127.0.0.1 - - [07/Apr/2023 10:00:53] \"GET /static/css/style.css HTTP/1.1\" 200 -\n"
     ]
    },
    {
     "name": "stdout",
     "output_type": "stream",
     "text": [
      "***206567.wav\n",
      "1/1 [==============================] - 0s 298ms/step\n"
     ]
    },
    {
     "name": "stderr",
     "output_type": "stream",
     "text": [
      "127.0.0.1 - - [07/Apr/2023 10:01:10] \"POST /api/audio HTTP/1.1\" 200 -\n",
      "127.0.0.1 - - [07/Apr/2023 10:01:10] \"GET /static/css/style.css HTTP/1.1\" 304 -\n"
     ]
    },
    {
     "name": "stdout",
     "output_type": "stream",
     "text": [
      "***206893.wav\n",
      "1/1 [==============================] - 0s 290ms/step\n"
     ]
    },
    {
     "name": "stderr",
     "output_type": "stream",
     "text": [
      "127.0.0.1 - - [07/Apr/2023 10:22:02] \"POST /api/audio HTTP/1.1\" 200 -\n",
      "127.0.0.1 - - [07/Apr/2023 10:22:02] \"GET /static/css/style.css HTTP/1.1\" 304 -\n"
     ]
    },
    {
     "name": "stdout",
     "output_type": "stream",
     "text": [
      "***221394.wav\n",
      "1/1 [==============================] - 0s 268ms/step\n"
     ]
    },
    {
     "name": "stderr",
     "output_type": "stream",
     "text": [
      "127.0.0.1 - - [07/Apr/2023 10:22:11] \"POST /api/audio HTTP/1.1\" 200 -\n",
      "127.0.0.1 - - [07/Apr/2023 10:22:11] \"GET /static/css/style.css HTTP/1.1\" 304 -\n"
     ]
    },
    {
     "name": "stdout",
     "output_type": "stream",
     "text": [
      "***207442.wav\n",
      "1/1 [==============================] - 0s 272ms/step\n"
     ]
    },
    {
     "name": "stderr",
     "output_type": "stream",
     "text": [
      "127.0.0.1 - - [07/Apr/2023 10:22:19] \"POST /api/audio HTTP/1.1\" 200 -\n",
      "127.0.0.1 - - [07/Apr/2023 10:22:19] \"GET /static/css/style.css HTTP/1.1\" 304 -\n",
      "127.0.0.1 - - [07/Apr/2023 13:51:48] \"GET /api/audio HTTP/1.1\" 405 -\n",
      "127.0.0.1 - - [07/Apr/2023 13:51:54] \"GET /index/ HTTP/1.1\" 200 -\n",
      "127.0.0.1 - - [07/Apr/2023 13:51:54] \"GET /static/css/style.css HTTP/1.1\" 304 -\n"
     ]
    },
    {
     "name": "stdout",
     "output_type": "stream",
     "text": [
      "***206567.wav\n",
      "1/1 [==============================] - 0s 304ms/step\n"
     ]
    },
    {
     "name": "stderr",
     "output_type": "stream",
     "text": [
      "127.0.0.1 - - [07/Apr/2023 13:52:04] \"POST /api/audio HTTP/1.1\" 200 -\n",
      "127.0.0.1 - - [07/Apr/2023 13:52:04] \"GET /static/css/style.css HTTP/1.1\" 304 -\n"
     ]
    },
    {
     "name": "stdout",
     "output_type": "stream",
     "text": [
      "***206567.wav\n",
      "1/1 [==============================] - 0s 292ms/step\n"
     ]
    },
    {
     "name": "stderr",
     "output_type": "stream",
     "text": [
      "127.0.0.1 - - [07/Apr/2023 13:52:15] \"POST /api/audio HTTP/1.1\" 200 -\n",
      "127.0.0.1 - - [07/Apr/2023 13:52:15] \"GET /static/css/style.css HTTP/1.1\" 304 -\n"
     ]
    },
    {
     "name": "stdout",
     "output_type": "stream",
     "text": [
      "***207049.wav\n",
      "1/1 [==============================] - 0s 276ms/step\n"
     ]
    },
    {
     "name": "stderr",
     "output_type": "stream",
     "text": [
      "127.0.0.1 - - [07/Apr/2023 13:52:21] \"POST /api/audio HTTP/1.1\" 200 -\n",
      "127.0.0.1 - - [07/Apr/2023 13:52:21] \"GET /static/css/style.css HTTP/1.1\" 304 -\n"
     ]
    },
    {
     "name": "stdout",
     "output_type": "stream",
     "text": [
      "***220168.wav\n",
      "1/1 [==============================] - 0s 280ms/step\n"
     ]
    },
    {
     "name": "stderr",
     "output_type": "stream",
     "text": [
      "127.0.0.1 - - [07/Apr/2023 13:52:31] \"POST /api/audio HTTP/1.1\" 200 -\n",
      "127.0.0.1 - - [07/Apr/2023 13:52:31] \"GET /static/css/style.css HTTP/1.1\" 304 -\n"
     ]
    },
    {
     "name": "stdout",
     "output_type": "stream",
     "text": [
      "***220433.wav\n",
      "1/1 [==============================] - 0s 271ms/step\n"
     ]
    },
    {
     "name": "stderr",
     "output_type": "stream",
     "text": [
      "127.0.0.1 - - [07/Apr/2023 13:52:39] \"POST /api/audio HTTP/1.1\" 200 -\n",
      "127.0.0.1 - - [07/Apr/2023 13:52:39] \"GET /static/css/style.css HTTP/1.1\" 304 -\n"
     ]
    },
    {
     "name": "stdout",
     "output_type": "stream",
     "text": [
      "***222554.wav\n",
      "1/1 [==============================] - 0s 278ms/step\n"
     ]
    },
    {
     "name": "stderr",
     "output_type": "stream",
     "text": [
      "127.0.0.1 - - [07/Apr/2023 13:52:46] \"POST /api/audio HTTP/1.1\" 200 -\n",
      "127.0.0.1 - - [07/Apr/2023 13:52:46] \"GET /static/css/style.css HTTP/1.1\" 304 -\n"
     ]
    },
    {
     "name": "stdout",
     "output_type": "stream",
     "text": [
      "***221432.wav\n",
      "1/1 [==============================] - 0s 272ms/step\n",
      "1/1 [==============================] - 0s 271ms/step\n"
     ]
    },
    {
     "name": "stderr",
     "output_type": "stream",
     "text": [
      "127.0.0.1 - - [07/Apr/2023 13:52:55] \"POST /api/audio HTTP/1.1\" 200 -\n",
      "127.0.0.1 - - [07/Apr/2023 13:52:55] \"GET /static/css/style.css HTTP/1.1\" 304 -\n"
     ]
    },
    {
     "name": "stdout",
     "output_type": "stream",
     "text": [
      "***220406.wav\n",
      "1/1 [==============================] - 0s 278ms/step\n"
     ]
    },
    {
     "name": "stderr",
     "output_type": "stream",
     "text": [
      "127.0.0.1 - - [07/Apr/2023 13:53:22] \"POST /api/audio HTTP/1.1\" 200 -\n",
      "127.0.0.1 - - [07/Apr/2023 13:53:22] \"GET /static/css/style.css HTTP/1.1\" 304 -\n"
     ]
    }
   ],
   "source": [
    "app = Flask(__name__)\n",
    "model = load_model('./saved_models/fine-tuning_siamese-vgg19_logmel+mfcc_30epochs_6.h5', compile=False)\n",
    "\n",
    "@app.route('/index/')\n",
    "def index():\n",
    "    return render_template('MosquitoNet.html')\n",
    "\n",
    "@app.route('/api/audio', methods=['POST'])\n",
    "def upload_audio():\n",
    "    if 'audio' not in request.files:\n",
    "        return render_template('MosquitoNet.html', prediction='No posted audio.')\n",
    "    file = request.files['audio']\n",
    "    \n",
    "    if file.filename == '':\n",
    "        return render_template('MosquitoNet.html', prediction='You did not select an audio.')\n",
    "    \n",
    "    if file and allowed_file(file.filename):\n",
    "        filename = secure_filename(file.filename)\n",
    "        print(\"***\"+filename)\n",
    "        \n",
    "        \"\"\"\n",
    "        Step 1: Read audio file\n",
    "        Step 2: Splice audio file into 1.92s chunks\n",
    "        Step 3: Remove chunks < 1.92\n",
    "        Step 4: Convert chunks into Spectrogram images\n",
    "        Step 5: Get prediction for each image\n",
    "        Step 6: Get average prediction \n",
    "        Step 7: Display results\n",
    "        \"\"\"\n",
    "        \n",
    "        predictions = predict(convert_logmel(splice(file)), convert_mfcc(splice(file)))\n",
    "        \n",
    "        \n",
    "        # # Encode the image file\n",
    "        # encoded_img_data = base64.b64encode(buf.getvalue())\n",
    "        \n",
    "        # Convert prediction to list\n",
    "        # lst = [arr.tolist()[0] for arr in predictions]\n",
    "        # # Un-nest the list\n",
    "        # lst = [item for sublist in lst for item in sublist]\n",
    "        \n",
    "        concatenated_array = np.concatenate(predictions, axis=0)\n",
    "\n",
    "        average_values = np.mean(concatenated_array, axis=0)\n",
    "        \n",
    "        return render_template('MosquitoNet.html', prediction = json.dumps(average_values.tolist()))\n",
    "    else:\n",
    "        return render_template('MosquitoNet.html', prediction='Invalid File')\n",
    "    \n",
    "\n",
    "if __name__ == '__main__':\n",
    "    app.run(debug=True, use_reloader=False)"
   ]
  }
 ],
 "metadata": {
  "kernelspec": {
   "display_name": "my_env",
   "language": "python",
   "name": "my_env"
  },
  "language_info": {
   "codemirror_mode": {
    "name": "ipython",
    "version": 3
   },
   "file_extension": ".py",
   "mimetype": "text/x-python",
   "name": "python",
   "nbconvert_exporter": "python",
   "pygments_lexer": "ipython3",
   "version": "3.10.0"
  }
 },
 "nbformat": 4,
 "nbformat_minor": 5
}
